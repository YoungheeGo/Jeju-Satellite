{
  "cells": [
    {
      "cell_type": "code",
      "execution_count": 1,
      "id": "8sQF9-Dtmr3E",
      "metadata": {
        "colab": {
          "base_uri": "https://localhost:8080/"
        },
        "id": "8sQF9-Dtmr3E",
        "outputId": "d5eb0677-653d-461f-a05c-4577e5e57a02"
      },
      "outputs": [
        {
          "name": "stdout",
          "output_type": "stream",
          "text": [
            "Mounted at /content/drive\n"
          ]
        }
      ],
      "source": [
        "from google.colab import drive\n",
        "drive.mount('/content/drive')"
      ]
    },
    {
      "cell_type": "code",
      "execution_count": 18,
      "id": "1e986f46",
      "metadata": {
        "id": "1e986f46"
      },
      "outputs": [],
      "source": [
        "import pandas as pd\n",
        "import numpy as np\n",
        "import tensorflow as tf\n",
        "from tensorflow.keras.layers import Dense\n",
        "from tensorflow.keras.layers import LSTM\n",
        "from tensorflow.keras.layers import Dropout\n",
        "from tensorflow.keras.layers import Activation\n",
        "\n",
        "from tensorflow.keras.models import Sequential\n",
        "from keras import optimizers\n",
        "from tensorflow.keras.losses import MSE\n",
        "\n",
        "from tensorflow.keras.callbacks import EarlyStopping\n",
        "from tensorflow.keras.callbacks import ModelCheckpoint\n",
        "from tensorflow.keras.callbacks import ReduceLROnPlateau\n",
        "\n",
        "from sklearn.metrics import mean_squared_error\n",
        "\n",
        "df=pd.read_csv('/dataset.csv')\n",
        "test=pd.read_csv('/test.csv')"
      ]
    },
    {
      "cell_type": "code",
      "execution_count": 19,
      "id": "31441f13",
      "metadata": {
        "colab": {
          "base_uri": "https://localhost:8080/"
        },
        "id": "31441f13",
        "outputId": "a0b21910-b75c-492d-9f4d-9c3b02d14b63"
      },
      "outputs": [
        {
          "data": {
            "text/plain": [
              "array([[ 17.3   ,  33.1628, 126.2639],\n",
              "       [ 16.4   ,  33.2253, 126.3931],\n",
              "       [ 17.2   ,  33.2386, 126.1947],\n",
              "       ...,\n",
              "       [ 17.    ,  33.5222, 126.9667],\n",
              "       [ 17.    ,  33.5253, 126.4939],\n",
              "       [ 16.4   ,  33.5817, 126.7636]])"
            ]
          },
          "execution_count": 19,
          "metadata": {},
          "output_type": "execute_result"
        }
      ],
      "source": [
        "df.rename(columns={'표층 수온 (℃)':'SST'},inplace=True)\n",
        "train=df.copy()\n",
        "train.iloc[48]\n",
        "\n",
        "test=test.sort_values(['관측일시','lat','long']).reset_index(drop=True)\n",
        "sst=train['SST']\n",
        "\n",
        "train.pop('관측소명')\n",
        "train.pop('관측일시')\n",
        "reshape_dataset=train.values.reshape(train.shape)\n",
        "reshape_dataset\n",
        "\n",
        "test.pop('관측일시')\n",
        "test.pop('관측소명')\n",
        "reshape_test=test.values.reshape(test.shape)\n",
        "reshape_test"
      ]
    },
    {
      "cell_type": "code",
      "execution_count": 20,
      "id": "34f06085",
      "metadata": {
        "id": "34f06085"
      },
      "outputs": [],
      "source": [
        "seq_len=15\n",
        "steps=1\n",
        "X,y=list(),list()\n",
        "for i, _ in  enumerate(reshape_dataset):\n",
        "  idx_in=i+seq_len\n",
        "  idx_out= idx_in + steps\n",
        "  if idx_out>len(reshape_dataset):\n",
        "    break\n",
        "  seq_x=reshape_dataset[i:idx_in,1:]\n",
        "  # print(seq_x)\n",
        "  seq_y=reshape_dataset[idx_out-1:idx_out,0]\n",
        "  # print(seq_y)\n",
        "\n",
        "  X.append(seq_x)\n",
        "  y.append(seq_y)\n",
        "X=np.array(X)\n",
        "y=np.array(y)"
      ]
    },
    {
      "cell_type": "code",
      "execution_count": 21,
      "id": "9f7c2f80",
      "metadata": {
        "id": "9f7c2f80"
      },
      "outputs": [],
      "source": [
        "epochs = 100\n",
        "batch = 64\n",
        "lr = 0.01\n",
        "adam = optimizers.Adam(lr)"
      ]
    },
    {
      "cell_type": "code",
      "execution_count": 22,
      "id": "f406f464",
      "metadata": {
        "id": "f406f464"
      },
      "outputs": [],
      "source": [
        "tf.random.set_seed(42)\n",
        "model=Sequential()\n",
        "model.add(LSTM(100, activation='relu', input_shape=(seq_len, 2), return_sequences=True))\n",
        "model.add(LSTM(50, activation='relu'))\n",
        "model.add(Dense(1))\n",
        "model.compile(loss='mse', optimizer=adam)\n"
      ]
    },
    {
      "cell_type": "code",
      "execution_count": null,
      "id": "XPlRqNdgp8We",
      "metadata": {
        "colab": {
          "base_uri": "https://localhost:8080/"
        },
        "id": "XPlRqNdgp8We",
        "outputId": "50d822fb-dd43-4b76-e683-1ab4a0aa17c6"
      },
      "outputs": [
        {
          "name": "stdout",
          "output_type": "stream",
          "text": [
            "Epoch 1/100\n",
            "4380/4380 - 48s - loss: 164.8964 - 48s/epoch - 11ms/step\n",
            "Epoch 2/100\n",
            "4380/4380 - 46s - loss: 23.6807 - 46s/epoch - 11ms/step\n",
            "Epoch 3/100\n",
            "4380/4380 - 46s - loss: 20.2042 - 46s/epoch - 10ms/step\n",
            "Epoch 4/100\n",
            "4380/4380 - 46s - loss: 20.0855 - 46s/epoch - 10ms/step\n",
            "Epoch 5/100\n",
            "4380/4380 - 46s - loss: 21.2070 - 46s/epoch - 11ms/step\n",
            "Epoch 6/100\n",
            "4380/4380 - 46s - loss: 20.1398 - 46s/epoch - 10ms/step\n",
            "Epoch 7/100\n",
            "4380/4380 - 46s - loss: 20.1088 - 46s/epoch - 11ms/step\n",
            "Epoch 8/100\n",
            "4380/4380 - 46s - loss: 20.0983 - 46s/epoch - 10ms/step\n",
            "Epoch 9/100\n",
            "4380/4380 - 46s - loss: 20.0976 - 46s/epoch - 11ms/step\n",
            "Epoch 10/100\n",
            "4380/4380 - 46s - loss: 20.0018 - 46s/epoch - 10ms/step\n",
            "Epoch 11/100\n",
            "4380/4380 - 46s - loss: 19.9811 - 46s/epoch - 11ms/step\n",
            "Epoch 12/100\n"
          ]
        }
      ],
      "source": [
        "lstm_history = model.fit(X, y,  epochs=epochs, verbose=2)"
      ]
    },
    {
      "cell_type": "code",
      "execution_count": 16,
      "id": "0bfd62a2",
      "metadata": {
        "colab": {
          "base_uri": "https://localhost:8080/"
        },
        "id": "0bfd62a2",
        "outputId": "c0b9718c-172e-490f-f346-dfbf3221a066"
      },
      "outputs": [
        {
          "name": "stdout",
          "output_type": "stream",
          "text": [
            "4379/4379 [==============================] - 48s 11ms/step\n"
          ]
        },
        {
          "data": {
            "text/plain": [
              "4.632145519271082"
            ]
          },
          "execution_count": 16,
          "metadata": {},
          "output_type": "execute_result"
        }
      ],
      "source": [
        "pred_train=model.predict(X)\n",
        "y=y.flatten()\n",
        "np.sqrt(mean_squared_error(pred_train,y))"
      ]
    },
    {
      "cell_type": "code",
      "execution_count": 17,
      "id": "e54eb1dc",
      "metadata": {
        "colab": {
          "base_uri": "https://localhost:8080/"
        },
        "id": "e54eb1dc",
        "outputId": "c928b7b6-9527-4852-9d17-1a99f7deb0c5"
      },
      "outputs": [
        {
          "name": "stdout",
          "output_type": "stream",
          "text": [
            "4379/4379 [==============================] - 47s 11ms/step\n",
            "4.632145519271082\n"
          ]
        }
      ],
      "source": [
        "pred_test=model.predict(X_test)\n",
        "y_test=y_test.flatten()\n",
        "print(np.sqrt(mean_squared_error(pred_test,y_test)))"
      ]
    },
    {
      "cell_type": "code",
      "execution_count": null,
      "id": "e6f73f7f",
      "metadata": {
        "id": "e6f73f7f"
      },
      "outputs": [],
      "source": []
    }
  ],
  "metadata": {
    "colab": {
      "provenance": []
    },
    "kernelspec": {
      "display_name": "Python 3 (ipykernel)",
      "language": "python",
      "name": "python3"
    },
    "language_info": {
      "codemirror_mode": {
        "name": "ipython",
        "version": 3
      },
      "file_extension": ".py",
      "mimetype": "text/x-python",
      "name": "python",
      "nbconvert_exporter": "python",
      "pygments_lexer": "ipython3",
      "version": "3.8.18"
    }
  },
  "nbformat": 4,
  "nbformat_minor": 5
}
